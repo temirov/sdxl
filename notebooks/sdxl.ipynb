{
 "cells": [
  {
   "cell_type": "code",
   "execution_count": null,
   "metadata": {
    "ExecuteTime": {
     "end_time": "2023-07-15T05:50:28.800696342Z",
     "start_time": "2023-07-15T05:50:28.800321383Z"
    }
   },
   "outputs": [
    {
     "ename": "",
     "evalue": "",
     "output_type": "error",
     "traceback": [
      "\u001b[1;31mThe Kernel crashed while executing code in the the current cell or a previous cell. Please review the code in the cell(s) to identify a possible cause of the failure. Click <a href='https://aka.ms/vscodeJupyterKernelCrash'>here</a> for more info. View Jupyter <a href='command:jupyter.viewOutput'>log</a> for further details."
     ]
    }
   ],
   "source": [
    "from diffusers import DiffusionPipeline, DPMSolverMultistepScheduler\n",
    "import torch\n",
    "import random\n",
    "from sdxl_service import SdxlService"
   ]
  },
  {
   "cell_type": "code",
   "execution_count": null,
   "metadata": {},
   "outputs": [],
   "source": [
    "sdxl_base_1_0_model_path = \"./models//stable-diffusion-xl-base-1.0\"\n",
    "sdxl_refiner_1_0_model_path = \"./models/stable-diffusion-xl-refiner-1.0\""
   ]
  },
  {
   "cell_type": "code",
   "execution_count": null,
   "metadata": {},
   "outputs": [],
   "source": [
    "class NoWatermark:\n",
    "    def apply_watermark(self, img):\n",
    "        return img"
   ]
  },
  {
   "cell_type": "code",
   "execution_count": null,
   "metadata": {},
   "outputs": [],
   "source": [
    "pipe = DiffusionPipeline.from_pretrained(\n",
    "    sdxl_base_1_0_model_path,\n",
    "    torch_dtype=torch.float16,\n",
    "    variant=\"fp16\",\n",
    "    use_safetensors=True,\n",
    "    local_files_only=True,\n",
    ")\n",
    "pipe.scheduler = DPMSolverMultistepScheduler.from_config(pipe.scheduler.config)\n",
    "pipe.unet = torch.compile(pipe.unet, mode=\"reduce-overhead\", fullgraph=True)\n",
    "pipe.watermark = NoWatermark()\n",
    "pipe.to(\"cuda\")"
   ]
  },
  {
   "cell_type": "code",
   "execution_count": null,
   "metadata": {},
   "outputs": [],
   "source": [
    "refiner = DiffusionPipeline.from_pretrained(\n",
    "    sdxl_refiner_1_0_model_path,\n",
    "    text_encoder_2=pipe.text_encoder_2,\n",
    "    vae=pipe.vae,\n",
    "    torch_dtype=torch.float16,\n",
    "    variant=\"fp16\",\n",
    "    use_safetensors=True,\n",
    "    local_files_only=True,\n",
    ")\n",
    "refiner.unet = torch.compile(refiner.unet, mode=\"reduce-overhead\", fullgraph=True)\n",
    "refiner.watermark = NoWatermark()\n",
    "refiner.to(\"cuda\")"
   ]
  },
  {
   "cell_type": "code",
   "execution_count": null,
   "metadata": {},
   "outputs": [],
   "source": [
    "prompt = \"An astronaut riding a green horse\"\n",
    "prompt = \"\"\"\n",
    "The word WAR in the background.\n",
    "A crow sitting on sword stuck in a skull.\n",
    "Blood moon in the background.\n",
    "\n",
    "Zelda style.\n",
    "Miyazaki style. \n",
    "\n",
    "Insanely detailed, 4k, hdr, anime. \n",
    "Intricate background, \n",
    "Old castle in the sky.\n",
    "\"\"\"\n",
    "prompt = \"\"\"\n",
    "Princess Peach riding a unicorn in the mushroom kingdom of Super Mario.\n",
    "The Unicorn is laughing and happy.\n",
    "\n",
    "Photorealistic, hyperrealistic, insanely detailed, 4k, hdr. \n",
    "Intricate background, national geographic award photography.\n",
    "Elegance and serenity. Princess Peach has a symmetrical face.\n",
    "\"\"\"\n",
    "prompt = \"\"\"\n",
    "A giant billboard that says 'Peach you so cool' in large letter. \n",
    "\n",
    "Princess Peach in the mushroom kindgom. Bowser plays the grand piano. \n",
    "\n",
    "Night scene.\n",
    "\n",
    "Zelda style.\n",
    "Miyazaki style. \n",
    "\n",
    "Insanely detailed, 4k, hdr, anime. \n",
    "Intricate background, national geographic award photography.\n",
    "\"\"\"\n",
    "prompt = \"\"\"\n",
    "Crisp night in the Mushroom Kingdom. Huge billboard: 'Peach, you're so cool!'. Princess Peach is central, Bowser plays piano. Zelda and Miyazaki-style blend, like a high-definition, intricate 4K HDR anime. Background detail akin to a National Geographic winner.\"\n",
    "\"\"\"\n",
    "prompt = \"\"\"\n",
    "Satan playing guitar on a roof of a church.\n",
    "contact lenses. blood moon in the background\n",
    "\n",
    "inspired by Cyril Rolando, shutterstock, highly detailed illustration, full color illustration, very detailed illustration, dan mumford and alex grey style\n",
    "\"\"\"\n",
    "prompt1 = \"\"\"\n",
    "Satan playing Fender Stratocaster guitar on a roof of a church.\n",
    "contact lenses, iris. blood moon in the background\n",
    "\n",
    "HDR, award winning photography, 4k, hyperfocus, extremely detailed, hyperrealistic\n",
    "\"\"\"\n",
    "prompt2 = \"\"\"\n",
    "Jesus Christ playing Fender Stratocaster guitar on a roof of a church at sunrise. \n",
    "contact lenses, iris. rainbow in the background\n",
    "\n",
    "HDR, award winning photography, 4k, hyperfocus, extremely detailed, hyperrealistic\n",
    "\"\"\"\n",
    "\n",
    "negative_prompt=\"closed eyes, epiphora, strabismus, Amblyopia, lazy eye, Polydactyly, Craniosynostosis, Plagiocephaly\"\n"
   ]
  },
  {
   "cell_type": "code",
   "execution_count": null,
   "metadata": {
    "scrolled": false
   },
   "outputs": [],
   "source": [
    "prompt=prompt2\n",
    "\n",
    "total = 4\n",
    "height=640\n",
    "# width=\n",
    "width=1536\n",
    "num_inference_steps=40\n",
    "seed = random.randint(8, 10)\n",
    "generator = torch.Generator(device=\"cuda\").manual_seed(seed)\n",
    "\n",
    "def generate_image(prompt):\n",
    "    latent_images = pipe(\n",
    "        prompt=prompt, \n",
    "        generator=generator, \n",
    "        output_type=\"latent\", \n",
    "        height=height, \n",
    "        width=width, \n",
    "        num_inference_steps=num_inference_steps,\n",
    "        negative_prompt=negative_prompt\n",
    "    ).images\n",
    "    image = refiner(prompt=prompt, generator=generator, image=latent_images).images[0]\n",
    "    return image\n",
    "\n",
    "images = []\n",
    "for _ in range(total):\n",
    "    image = generate_image(prompt)\n",
    "    images.append(image)\n",
    "\n",
    "for image in images:\n",
    "    display(image)"
   ]
  }
 ],
 "metadata": {
  "kernelspec": {
   "display_name": "Python 3 (ipykernel)",
   "language": "python",
   "name": "python3"
  },
  "language_info": {
   "codemirror_mode": {
    "name": "ipython",
    "version": 3
   },
   "file_extension": ".py",
   "mimetype": "text/x-python",
   "name": "python",
   "nbconvert_exporter": "python",
   "pygments_lexer": "ipython3",
   "version": "3.10.6"
  }
 },
 "nbformat": 4,
 "nbformat_minor": 1
}
