{
 "cells": [
  {
   "cell_type": "code",
   "execution_count": 1,
   "metadata": {
    "ExecuteTime": {
     "end_time": "2023-07-15T05:50:28.800696342Z",
     "start_time": "2023-07-15T05:50:28.800321383Z"
    }
   },
   "outputs": [],
   "source": [
    "import random\n",
    "from sdxl_service import SdxlService\n",
    "from image_size import ImageSize\n",
    "import constants\n",
    "from sdxl_model import SdxlModel"
   ]
  },
  {
   "cell_type": "code",
   "execution_count": 2,
   "metadata": {},
   "outputs": [],
   "source": [
    "prompt = \"An astronaut riding a green horse\"\n",
    "prompt = \"\"\"\n",
    "The word WAR in the background.\n",
    "A crow sitting on sword stuck in a skull.\n",
    "Blood moon in the background.\n",
    "\n",
    "Zelda style.\n",
    "Miyazaki style. \n",
    "\n",
    "Insanely detailed, 4k, hdr, anime. \n",
    "Intricate background, \n",
    "Old castle in the sky.\n",
    "\"\"\"\n",
    "prompt = \"\"\"\n",
    "Princess Peach riding a unicorn in the mushroom kingdom of Super Mario.\n",
    "The Unicorn is laughing and happy.\n",
    "\n",
    "Photorealistic, hyperrealistic, insanely detailed, 4k, hdr. \n",
    "Intricate background, national geographic award photography.\n",
    "Elegance and serenity. Princess Peach has a symmetrical face.\n",
    "\"\"\"\n",
    "prompt = \"\"\"\n",
    "A giant billboard that says 'Peach you so cool' in large letter. \n",
    "\n",
    "Princess Peach in the mushroom kindgom. Bowser plays the grand piano. \n",
    "\n",
    "Night scene.\n",
    "\n",
    "Zelda style.\n",
    "Miyazaki style. \n",
    "\n",
    "Insanely detailed, 4k, hdr, anime. \n",
    "Intricate background, national geographic award photography.\n",
    "\"\"\"\n",
    "prompt = \"\"\"\n",
    "Crisp night in the Mushroom Kingdom. Huge billboard: 'Peach, you're so cool!'. Princess Peach is central, Bowser plays piano. Zelda and Miyazaki-style blend, like a high-definition, intricate 4K HDR anime. Background detail akin to a National Geographic winner.\"\n",
    "\"\"\"\n",
    "prompt = \"\"\"\n",
    "Satan playing guitar on a roof of a church.\n",
    "contact lenses. blood moon in the background\n",
    "\n",
    "inspired by Cyril Rolando, shutterstock, highly detailed illustration, full color illustration, very detailed illustration, dan mumford and alex grey style\n",
    "\"\"\"\n",
    "prompt1 = \"\"\"\n",
    "Satan playing Fender Stratocaster guitar on a roof of a church.\n",
    "contact lenses, iris. blood moon in the background\n",
    "\n",
    "HDR, award winning photography, 4k, hyperfocus, extremely detailed, hyperrealistic\n",
    "\"\"\"\n",
    "prompt2 = \"\"\"\n",
    "Jesus Christ playing Fender Stratocaster guitar on a roof of a church at sunrise. \n",
    "contact lenses, iris. rainbow in the background\n",
    "\n",
    "HDR, award winning photography, 4k, hyperfocus, extremely detailed, hyperrealistic\n",
    "\"\"\"\n",
    "\n",
    "negative_prompt=\"closed eyes, epiphora, strabismus, Amblyopia, lazy eye, Polydactyly, Craniosynostosis, Plagiocephaly\""
   ]
  },
  {
   "cell_type": "code",
   "execution_count": 3,
   "metadata": {},
   "outputs": [
    {
     "data": {
      "application/vnd.jupyter.widget-view+json": {
       "model_id": "018edaaa46394a7da2565970487db92b",
       "version_major": 2,
       "version_minor": 0
      },
      "text/plain": [
       "Loading pipeline components...:   0%|          | 0/7 [00:00<?, ?it/s]"
      ]
     },
     "metadata": {},
     "output_type": "display_data"
    },
    {
     "data": {
      "application/vnd.jupyter.widget-view+json": {
       "model_id": "75df6bdf507b4360b443fa75588113cd",
       "version_major": 2,
       "version_minor": 0
      },
      "text/plain": [
       "Loading pipeline components...:   0%|          | 0/5 [00:00<?, ?it/s]"
      ]
     },
     "metadata": {},
     "output_type": "display_data"
    }
   ],
   "source": [
    "sdxl_model = SdxlModel(\n",
    "    version=\"1.0\",\n",
    "    base_model_path=constants.SDXL_BASE_1_0_MODEL_PATH,\n",
    "    refiner_model_path=constants.SDXL_REFINER_1_0_MODEL_PATH\n",
    ")\n",
    "sdxl_service = SdxlService(sdxl_model)\n"
   ]
  },
  {
   "cell_type": "code",
   "execution_count": 7,
   "metadata": {
    "scrolled": false
   },
   "outputs": [
    {
     "data": {
      "application/vnd.jupyter.widget-view+json": {
       "model_id": "4a5a9f865dfd4a5dbb028e357579af0a",
       "version_major": 2,
       "version_minor": 0
      },
      "text/plain": [
       "  0%|          | 0/40 [00:00<?, ?it/s]"
      ]
     },
     "metadata": {},
     "output_type": "display_data"
    },
    {
     "data": {
      "application/vnd.jupyter.widget-view+json": {
       "model_id": "986846e17f0145feaa33e70e34179a2c",
       "version_major": 2,
       "version_minor": 0
      },
      "text/plain": [
       "  0%|          | 0/15 [00:00<?, ?it/s]"
      ]
     },
     "metadata": {},
     "output_type": "display_data"
    },
    {
     "data": {
      "text/plain": [
       "[<PIL.Image.Image image mode=RGB size=1344x768>]"
      ]
     },
     "metadata": {},
     "output_type": "display_data"
    },
    {
     "data": {
      "text/plain": [
       "[<PIL.Image.Image image mode=RGB size=1344x768>]"
      ]
     },
     "metadata": {},
     "output_type": "display_data"
    }
   ],
   "source": [
    "positive_prompt=prompt2\n",
    "\n",
    "total = 1\n",
    "\n",
    "image_size_21_9 = ImageSize(width=1536, height=640, ratio=\"21/9\")\n",
    "image_size_16_9 = ImageSize(width=1344, height=768, ratio=\"16/9\")\n",
    "num_inference_steps=40\n",
    "seed = random.randint(8, 10)\n",
    "prompt_fidelity = 8.0\n",
    "\n",
    "\n",
    "images = sdxl_service.apply(\n",
    "    positive_prompt,\n",
    "    negative_prompt,\n",
    "    image_size_16_9,\n",
    "    num_inference_steps,\n",
    "    prompt_fidelity,\n",
    "    total_results=total\n",
    ")\n",
    "\n",
    "for image in images:\n",
    "    display(image)"
   ]
  }
 ],
 "metadata": {
  "kernelspec": {
   "display_name": "Python 3 (ipykernel)",
   "language": "python",
   "name": "python3"
  },
  "language_info": {
   "codemirror_mode": {
    "name": "ipython",
    "version": 3
   },
   "file_extension": ".py",
   "mimetype": "text/x-python",
   "name": "python",
   "nbconvert_exporter": "python",
   "pygments_lexer": "ipython3",
   "version": "3.10.6"
  }
 },
 "nbformat": 4,
 "nbformat_minor": 1
}
